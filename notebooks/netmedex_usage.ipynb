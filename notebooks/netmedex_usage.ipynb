{
 "cells": [
  {
   "cell_type": "markdown",
   "metadata": {},
   "source": [
    "# Example Python API Usage\n",
    "\n",
    "## Retrieve Article Information and PubTator Annotations\n",
    "\n",
    "### Query PubTator with Keywords and Retrieve the Resulting Article Collection\n"
   ]
  },
  {
   "cell_type": "code",
   "execution_count": 1,
   "metadata": {},
   "outputs": [
    {
     "name": "stdout",
     "output_type": "stream",
     "text": [
      "Query: \"covid-19\" AND \"PON1\"\n"
     ]
    },
    {
     "name": "stdout",
     "output_type": "stream",
     "text": [
      "Find 160 articles\n",
      "Requesting 100 articles...\n",
      "Step 1/2: Requesting article PMIDs...\n"
     ]
    },
    {
     "data": {
      "application/vnd.jupyter.widget-view+json": {
       "model_id": "ff15c79175ea4feca1c481f1fe1b3402",
       "version_major": 2,
       "version_minor": 0
      },
      "text/plain": [
       "  0%|          | 0/100 [00:00<?, ?it/s]"
      ]
     },
     "metadata": {},
     "output_type": "display_data"
    },
    {
     "name": "stdout",
     "output_type": "stream",
     "text": [
      "Step 2/2: Requesting article annotations...\n"
     ]
    },
    {
     "data": {
      "application/vnd.jupyter.widget-view+json": {
       "model_id": "f667f791da8f4178bb53062ff744305a",
       "version_major": 2,
       "version_minor": 0
      },
      "text/plain": [
       "  0%|          | 0/100 [00:00<?, ?it/s]"
      ]
     },
     "metadata": {},
     "output_type": "display_data"
    }
   ],
   "source": [
    "from netmedex.pubtator import PubTatorAPI\n",
    "\n",
    "collection = await PubTatorAPI(\n",
    "    # Use double quotes (\"\") to enclose keywords that contain spaces.\n",
    "    query='\"covid-19\" AND \"PON1\"',\n",
    "    sort=\"score\",\n",
    "    max_articles=100,\n",
    ").arun()"
   ]
  },
  {
   "cell_type": "markdown",
   "metadata": {},
   "source": [
    "### Query PubTator Using Keywords and Retrieve Only the PMIDs of the Resulting Articles\n"
   ]
  },
  {
   "cell_type": "code",
   "execution_count": 9,
   "metadata": {},
   "outputs": [
    {
     "name": "stdout",
     "output_type": "stream",
     "text": [
      "Query: \"covid-19\" AND \"PON1\"\n",
      "Find 160 articles\n",
      "Requesting 100 articles...\n",
      "Step 1/1: Requesting article PMIDs...\n"
     ]
    },
    {
     "data": {
      "application/vnd.jupyter.widget-view+json": {
       "model_id": "532586bab1924500b39e1b2ca19098b1",
       "version_major": 2,
       "version_minor": 0
      },
      "text/plain": [
       "  0%|          | 0/100 [00:00<?, ?it/s]"
      ]
     },
     "metadata": {},
     "output_type": "display_data"
    }
   ],
   "source": [
    "from netmedex.pubtator import PubTatorAPI\n",
    "\n",
    "collection = await PubTatorAPI(\n",
    "    query='\"covid-19\" AND \"PON1\"',\n",
    "    sort=\"score\",\n",
    "    return_pmid_only=True,\n",
    "    max_articles=100,\n",
    ").arun()\n",
    "\n",
    "pmid_list = collection.metadata[\"pmid_list\"]"
   ]
  },
  {
   "cell_type": "markdown",
   "metadata": {},
   "source": [
    "### Retrieve Articles from a List of PMIDs\n"
   ]
  },
  {
   "cell_type": "code",
   "execution_count": 11,
   "metadata": {},
   "outputs": [
    {
     "name": "stdout",
     "output_type": "stream",
     "text": [
      "Step 1/1: Requesting article annotations...\n"
     ]
    },
    {
     "data": {
      "application/vnd.jupyter.widget-view+json": {
       "model_id": "a11f254828c544d292d60e82c4abba69",
       "version_major": 2,
       "version_minor": 0
      },
      "text/plain": [
       "  0%|          | 0/3 [00:00<?, ?it/s]"
      ]
     },
     "metadata": {},
     "output_type": "display_data"
    }
   ],
   "source": [
    "from netmedex.pubtator import PubTatorAPI\n",
    "\n",
    "pmid_list = [\n",
    "    \"35740079\",\n",
    "    \"35883435\",\n",
    "    \"37064481\",\n",
    "]\n",
    "collection = await PubTatorAPI(pmid_list=pmid_list).arun()"
   ]
  },
  {
   "cell_type": "markdown",
   "metadata": {},
   "source": [
    "## Save Article Collection\n",
    "\n",
    "### Save as JSON (Recommended for Future Use)\n"
   ]
  },
  {
   "cell_type": "code",
   "execution_count": 2,
   "metadata": {},
   "outputs": [],
   "source": [
    "import json\n",
    "\n",
    "collection_json = collection.to_json()\n",
    "\n",
    "with open(\"collection.json\", \"w\") as f:\n",
    "    json.dump(collection_json, f)"
   ]
  },
  {
   "cell_type": "markdown",
   "metadata": {},
   "source": [
    "### Save in PubTator Format\n",
    "\n",
    "_Note: Article metadata, such as publication date and journal, will be lost when converting to PubTator format._\n"
   ]
  },
  {
   "cell_type": "code",
   "execution_count": 8,
   "metadata": {},
   "outputs": [],
   "source": [
    "collection_str = collection.to_pubtator_str()\n",
    "\n",
    "with open(\"collection.pubtator\", \"w\") as f:\n",
    "    f.write(collection_str)"
   ]
  },
  {
   "cell_type": "markdown",
   "metadata": {},
   "source": [
    "## Load Article Collection\n",
    "\n",
    "### Load from JSON\n"
   ]
  },
  {
   "cell_type": "code",
   "execution_count": 3,
   "metadata": {},
   "outputs": [],
   "source": [
    "import json\n",
    "\n",
    "from netmedex.pubtator_data import PubTatorCollection\n",
    "\n",
    "with open(\"collection.json\") as f:\n",
    "    collection_json = json.load(f)\n",
    "\n",
    "loaded_collection_json = PubTatorCollection.from_json(collection_json)"
   ]
  },
  {
   "cell_type": "markdown",
   "metadata": {},
   "source": [
    "### Load from PubTator File\n"
   ]
  },
  {
   "cell_type": "code",
   "execution_count": 1,
   "metadata": {},
   "outputs": [],
   "source": [
    "from netmedex.pubtator_parser import PubTatorIO\n",
    "\n",
    "loaded_collection_pubtator = PubTatorIO.parse(\"collection.pubtator\")"
   ]
  },
  {
   "cell_type": "markdown",
   "metadata": {},
   "source": [
    "## Construct Co-Occurrence Graph\n"
   ]
  },
  {
   "cell_type": "code",
   "execution_count": 8,
   "metadata": {},
   "outputs": [
    {
     "name": "stdout",
     "output_type": "stream",
     "text": [
      "# articles: 100\n",
      "# nodes: 40\n",
      "# edges: 125\n",
      "Save graph to network.html\n"
     ]
    }
   ],
   "source": [
    "from netmedex.graph import PubTatorGraphBuilder, save_graph\n",
    "\n",
    "graph_builder = PubTatorGraphBuilder(node_type=\"all\")\n",
    "graph_builder.add_collection(loaded_collection_json)\n",
    "graph = graph_builder.build(\n",
    "    weighting_method=\"freq\",\n",
    "    edge_weight_cutoff=1,\n",
    "    community=False,\n",
    ")\n",
    "save_graph(graph, savepath=\"network.html\", output_filetype=\"html\")"
   ]
  }
 ],
 "metadata": {
  "kernelspec": {
   "display_name": "test_pubtator",
   "language": "python",
   "name": "python3"
  },
  "language_info": {
   "codemirror_mode": {
    "name": "ipython",
    "version": 3
   },
   "file_extension": ".py",
   "mimetype": "text/x-python",
   "name": "python",
   "nbconvert_exporter": "python",
   "pygments_lexer": "ipython3",
   "version": "3.11.9"
  }
 },
 "nbformat": 4,
 "nbformat_minor": 2
}
