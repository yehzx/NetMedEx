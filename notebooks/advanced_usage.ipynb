{
 "cells": [
  {
   "cell_type": "markdown",
   "metadata": {},
   "source": [
    "## Pub3ToCytoScape Advanced Usage"
   ]
  },
  {
   "cell_type": "markdown",
   "metadata": {},
   "source": [
    "### Build the co-mention network for BioConcept entities related to \"N-dimethylnitrosamine and Metformin\"\n",
    "\n",
    "Query: \"N-dimethylnitrosamine and Metformin\"  \n",
    "\n",
    "Additional instructions:\n",
    "1. Limit the results to the top 100 most relevant articles.\n",
    "2. Set cut weight to `3` to filter out the edges between entities with fewer co-mentions."
   ]
  },
  {
   "cell_type": "code",
   "execution_count": 2,
   "metadata": {},
   "outputs": [
    {
     "name": "stdout",
     "output_type": "stream",
     "text": [
      "Query: N-dimethylnitrosamine and Metformin\n",
      "Obtaining article PMIDs...\n",
      "Find 133 articles\n",
      "Requesting 100 articles...\n",
      "100%|█████████████████████████████████████████| 100/100 [00:01<00:00, 55.67it/s]\n",
      "Save to output.pubtator\n"
     ]
    }
   ],
   "source": [
    "!python ../pubtator3_api.py -q \"N-dimethylnitrosamine and Metformin\" -o ./output.pubtator --max_articles 100"
   ]
  },
  {
   "cell_type": "code",
   "execution_count": 3,
   "metadata": {},
   "outputs": [
    {
     "name": "stdout",
     "output_type": "stream",
     "text": [
      "Found collision of name:\n",
      "{'mesh': '', 'type': 'Disease', 'name': 'ndma', 'xml_id': '817'}\n",
      "{'mesh': '-', 'type': 'Chemical', 'name': 'ndma', 'xml_id': '1032'}\n",
      "Discard the latter\n",
      "\n",
      "Found collision of name:\n",
      "{'mesh': '', 'type': 'Disease', 'name': 'ndma', 'xml_id': '817'}\n",
      "{'mesh': '-', 'type': 'Chemical', 'name': 'ndma', 'xml_id': '1040'}\n",
      "Discard the latter\n",
      "\n",
      "Found collision of name:\n",
      "{'mesh': '', 'type': 'Disease', 'name': 'ndma', 'xml_id': '817'}\n",
      "{'mesh': '-', 'type': 'Chemical', 'name': 'ndma', 'xml_id': '1057'}\n",
      "Discard the latter\n",
      "\n",
      "Found collision of name:\n",
      "{'mesh': '', 'type': 'Disease', 'name': 'ndma', 'xml_id': '817'}\n",
      "{'mesh': '-', 'type': 'Chemical', 'name': 'ndma', 'xml_id': '2308'}\n",
      "Discard the latter\n",
      "\n",
      "Found collision of name:\n",
      "{'mesh': '', 'type': 'Disease', 'name': 'ndma', 'xml_id': '817'}\n",
      "{'mesh': '-', 'type': 'Chemical', 'name': 'ndma', 'xml_id': '2310'}\n",
      "Discard the latter\n",
      "\n",
      "Found collision of name:\n",
      "{'mesh': '', 'type': 'Disease', 'name': 'ndma', 'xml_id': '817'}\n",
      "{'mesh': '-', 'type': 'Chemical', 'name': 'ndma', 'xml_id': '2313'}\n",
      "Discard the latter\n",
      "\n",
      "Found collision of name:\n",
      "{'mesh': '', 'type': 'Disease', 'name': 'ndma', 'xml_id': '817'}\n",
      "{'mesh': '-', 'type': 'Chemical', 'name': 'ndma', 'xml_id': '2315'}\n",
      "Discard the latter\n",
      "\n",
      "Found collision of name:\n",
      "{'mesh': '', 'type': 'Disease', 'name': 'ndma', 'xml_id': '817'}\n",
      "{'mesh': '-', 'type': 'Chemical', 'name': 'ndma', 'xml_id': '2318'}\n",
      "Discard the latter\n",
      "\n",
      "Found collision of name:\n",
      "{'mesh': '', 'type': 'Disease', 'name': 'ndma', 'xml_id': '817'}\n",
      "{'mesh': '-', 'type': 'Chemical', 'name': 'ndma', 'xml_id': '2320'}\n",
      "Discard the latter\n",
      "\n",
      "Found collision of name:\n",
      "{'mesh': '', 'type': 'Disease', 'name': 'ndma', 'xml_id': '817'}\n",
      "{'mesh': '-', 'type': 'Chemical', 'name': 'ndma', 'xml_id': '2322'}\n",
      "Discard the latter\n",
      "\n",
      "Found collision of name:\n",
      "{'mesh': '', 'type': 'Disease', 'name': 'ndma', 'xml_id': '817'}\n",
      "{'mesh': '-', 'type': 'Chemical', 'name': 'ndma', 'xml_id': '2323'}\n",
      "Discard the latter\n",
      "\n",
      "Found collision of name:\n",
      "{'mesh': '', 'type': 'Disease', 'name': 'ndma', 'xml_id': '817'}\n",
      "{'mesh': '-', 'type': 'Chemical', 'name': 'ndma', 'xml_id': '3222'}\n",
      "Discard the latter\n",
      "\n",
      "Found collision of name:\n",
      "{'mesh': '', 'type': 'Disease', 'name': 'ndma', 'xml_id': '817'}\n",
      "{'mesh': '-', 'type': 'Chemical', 'name': 'ndma', 'xml_id': '3226'}\n",
      "Discard the latter\n",
      "\n",
      "Found collision of name:\n",
      "{'mesh': '', 'type': 'Disease', 'name': 'ndma', 'xml_id': '817'}\n",
      "{'mesh': '-', 'type': 'Chemical', 'name': 'ndma', 'xml_id': '3229'}\n",
      "Discard the latter\n",
      "\n",
      "Found collision of name:\n",
      "{'mesh': '', 'type': 'Disease', 'name': 'ndma', 'xml_id': '817'}\n",
      "{'mesh': '-', 'type': 'Chemical', 'name': 'ndma', 'xml_id': '3230'}\n",
      "Discard the latter\n",
      "\n",
      "Found collision of name:\n",
      "{'mesh': '', 'type': 'Disease', 'name': 'ndma', 'xml_id': '817'}\n",
      "{'mesh': '-', 'type': 'Chemical', 'name': 'ndma', 'xml_id': '3231'}\n",
      "Discard the latter\n",
      "\n",
      "Found collision of name:\n",
      "{'mesh': '', 'type': 'Disease', 'name': 'ndma', 'xml_id': '817'}\n",
      "{'mesh': '-', 'type': 'Chemical', 'name': 'ndma', 'xml_id': '3809'}\n",
      "Discard the latter\n",
      "\n",
      "Found collision of name:\n",
      "{'mesh': '-', 'type': 'Chemical', 'name': 'antifibrosis', 'xml_id': '5550'}\n",
      "{'mesh': '', 'type': 'Disease', 'name': 'antifibrosis', 'xml_id': '5551'}\n",
      "Discard the latter\n",
      "\n",
      "# nodes: 29\n",
      "# edges: 69\n",
      "Save graph to output.xgmml\n"
     ]
    }
   ],
   "source": [
    "!python ../pubtator2cytoscape.py -i ./output.pubtator -o ./output.xgmml --index_by name -w 3"
   ]
  },
  {
   "cell_type": "markdown",
   "metadata": {},
   "source": [
    "*Note: Sometimes PubTator3 may label a given entity with different types. In such cases, we retain the first label and discard all subsequent mentions.*"
   ]
  },
  {
   "cell_type": "markdown",
   "metadata": {},
   "source": [
    "### Build the co-mention network for BioConcept entities related to the disease COVID 19 and the gene PON1 using PubTator3 Entity IDs\n",
    "\n",
    "Query: \"@DISEASE_COVID_19 AND @GENE_PON1\"  \n",
    "\n",
    "Additional instructions:\n",
    "1. Obtain standardized MeSH terms but not the original entity names in the articles.\n",
    "2. Limit the results to the top 100 most relevant articles.\n",
    "3. Keep MeSH terms only and discard all non-MeSH terms.\n",
    "4. Set cut weight to `3` to filter out the edges between entities with fewer co-mentions."
   ]
  },
  {
   "cell_type": "code",
   "execution_count": 4,
   "metadata": {},
   "outputs": [
    {
     "name": "stdout",
     "output_type": "stream",
     "text": [
      "Query: @DISEASE_COVID_19 AND @GENE_PON1\n",
      "Obtaining article PMIDs...\n",
      "Find 264 articles\n",
      "Requesting 100 articles...\n",
      "100%|█████████████████████████████████████████| 100/100 [00:02<00:00, 33.85it/s]\n",
      "Save to output.pubtator\n"
     ]
    }
   ],
   "source": [
    "!python ../pubtator3_api.py -q \"@DISEASE_COVID_19 AND @GENE_PON1\" -o ./output.pubtator --max_articles 100 --standardized"
   ]
  },
  {
   "cell_type": "code",
   "execution_count": 10,
   "metadata": {},
   "outputs": [
    {
     "name": "stdout",
     "output_type": "stream",
     "text": [
      "# nodes: 31\n",
      "# edges: 71\n",
      "Save graph to output.xgmml\n"
     ]
    }
   ],
   "source": [
    "!python ../pubtator2cytoscape.py -i ./output.pubtator -o ./output.xgmml --index_by mesh -w 3"
   ]
  }
 ],
 "metadata": {
  "kernelspec": {
   "display_name": "base",
   "language": "python",
   "name": "python3"
  },
  "language_info": {
   "codemirror_mode": {
    "name": "ipython",
    "version": 3
   },
   "file_extension": ".py",
   "mimetype": "text/x-python",
   "name": "python",
   "nbconvert_exporter": "python",
   "pygments_lexer": "ipython3",
   "version": "3.11.5"
  }
 },
 "nbformat": 4,
 "nbformat_minor": 2
}
