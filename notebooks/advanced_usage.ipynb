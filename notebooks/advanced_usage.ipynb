{
 "cells": [
  {
   "cell_type": "markdown",
   "metadata": {},
   "source": [
    "## Pub3ToCytoScape Advanced Usage"
   ]
  },
  {
   "cell_type": "markdown",
   "metadata": {},
   "source": [
    "### Build the co-mention network for BioConcept entities related to \"N-dimethylnitrosamine and Metformin\"\n",
    "\n",
    "Query: \"N-dimethylnitrosamine and Metformin\"  \n",
    "\n",
    "Additional instructions:\n",
    "1. Limit the results to the top 100 most recent articles.\n",
    "2. Set cut weight to `3` to filter out the edges between entities with fewer co-mentions.\n",
    "3. Save as an XGMML file for further processing in Cytoscape."
   ]
  },
  {
   "cell_type": "code",
   "execution_count": 4,
   "metadata": {},
   "outputs": [
    {
     "name": "stdout",
     "output_type": "stream",
     "text": [
      "Query: N-dimethylnitrosamine and Metformin\n",
      "Obtaining article PMIDs...\n",
      "Find 136 articles\n",
      "Requesting 100 articles...\n",
      "100%|█████████████████████████████████████████| 100/100 [00:01<00:00, 63.98it/s]\n",
      "Save to output.pubtator\n"
     ]
    }
   ],
   "source": [
    "!pubtator3 -q \"N-dimethylnitrosamine and Metformin\" -o ./output.pubtator --max_articles 100"
   ]
  },
  {
   "cell_type": "code",
   "execution_count": 5,
   "metadata": {},
   "outputs": [
    {
     "name": "stdout",
     "output_type": "stream",
     "text": [
      "# articles: 100\n",
      "# nodes: 35\n",
      "# edges: 100\n",
      "Save graph to output.xgmml\n"
     ]
    }
   ],
   "source": [
    "!tocytoscape -i ./output.pubtator -o ./output.xgmml -f xgmml -w 3"
   ]
  },
  {
   "cell_type": "markdown",
   "metadata": {},
   "source": [
    "*Note: Sometimes PubTator3 may label a given entity with different types. In such cases, we retain the first label and discard all subsequent mentions.*"
   ]
  },
  {
   "cell_type": "markdown",
   "metadata": {},
   "source": [
    "### Build the co-mention network for BioConcept entities related to the disease COVID 19 and the gene PON1 using PubTator3 Entity IDs\n",
    "\n",
    "Query: \"@DISEASE_COVID_19 AND @GENE_PON1\"  \n",
    "\n",
    "Additional instructions:\n",
    "1. Use MeSH vocabulary but not the original text in the articles.\n",
    "2. Limit the results to the top 100 most recent articles.\n",
    "3. Keep MeSH terms only and discard all non-MeSH terms.\n",
    "4. Set edge weight cutoff to `3` to filter out the edges between entities with fewer co-mentions.\n",
    "5. Divide the network into communities using the Louvain method."
   ]
  },
  {
   "cell_type": "code",
   "execution_count": 15,
   "metadata": {},
   "outputs": [
    {
     "name": "stdout",
     "output_type": "stream",
     "text": [
      "Query: @DISEASE_COVID_19 AND @GENE_PON1\n",
      "Obtaining article PMIDs...\n",
      "Find 274 articles\n",
      "Requesting 100 articles...\n",
      "100%|█████████████████████████████████████████| 100/100 [00:01<00:00, 53.88it/s]\n",
      "Save to output.pubtator\n"
     ]
    }
   ],
   "source": [
    "!pubtator3 -q \"@DISEASE_COVID_19 AND @GENE_PON1\" -o ./output.pubtator --max_articles 100 --use_mesh"
   ]
  },
  {
   "cell_type": "code",
   "execution_count": 16,
   "metadata": {},
   "outputs": [
    {
     "name": "stdout",
     "output_type": "stream",
     "text": [
      "# articles: 100\n",
      "# communities: 3\n",
      "# nodes: 28\n",
      "# edges: 38\n",
      "Save graph to output.html\n"
     ]
    }
   ],
   "source": [
    "!tocytoscape -i ./output.pubtator -o ./output.html -w 3 --node_type mesh --community"
   ]
  }
 ],
 "metadata": {
  "kernelspec": {
   "display_name": "base",
   "language": "python",
   "name": "python3"
  },
  "language_info": {
   "codemirror_mode": {
    "name": "ipython",
    "version": 3
   },
   "file_extension": ".py",
   "mimetype": "text/x-python",
   "name": "python",
   "nbconvert_exporter": "python",
   "pygments_lexer": "ipython3",
   "version": "3.11.9"
  }
 },
 "nbformat": 4,
 "nbformat_minor": 2
}
